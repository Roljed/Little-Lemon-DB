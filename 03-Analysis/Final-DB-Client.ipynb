{
 "cells": [
  {
   "cell_type": "markdown",
   "metadata": {},
   "source": [
    "# The final assignment for Meta's Database Engineer course"
   ]
  },
  {
   "cell_type": "markdown",
   "metadata": {},
   "source": [
    "Little Lemon analysis and sales report located after the setup phase."
   ]
  },
  {
   "cell_type": "markdown",
   "metadata": {},
   "source": [
    "Little Lemon is a family-owned Mediterranean restaurant. They are developing a Python-based application that needs to connect with the MySQL database so that the booking, menu and orders data can be stored in the respective tables. \n",
    "\n",
    "The restaurant owner wants to use the stored data to make data-driven decisions to increase their revenue. Establishing a database is one of their key objectives."
   ]
  },
  {
   "cell_type": "markdown",
   "metadata": {},
   "source": [
    "## Setup"
   ]
  },
  {
   "cell_type": "markdown",
   "metadata": {},
   "source": [
    "### Establish a connection"
   ]
  },
  {
   "cell_type": "code",
   "execution_count": 79,
   "metadata": {},
   "outputs": [],
   "source": [
    "import mysql.connector as connector\n",
    "\n",
    "connection = connector.connect(\n",
    "    user = \"root\",\n",
    "    password = \"little-lemon\"\n",
    "    )"
   ]
  },
  {
   "cell_type": "markdown",
   "metadata": {},
   "source": [
    "### Create a cursor and a database"
   ]
  },
  {
   "cell_type": "code",
   "execution_count": null,
   "metadata": {},
   "outputs": [],
   "source": [
    "cursor = connection.cursor()\n",
    "create_database_query = \"\"\"\n",
    "CREATE DATABASE little_lemon_db\n",
    "\"\"\"\n",
    "cursor.execute(create_database_query)"
   ]
  },
  {
   "cell_type": "code",
   "execution_count": 43,
   "metadata": {},
   "outputs": [],
   "source": [
    "use_database_query = \"\"\"\n",
    "USE little_lemon_db\n",
    "\"\"\"\n",
    "cursor.execute(use_database_query)"
   ]
  },
  {
   "cell_type": "markdown",
   "metadata": {},
   "source": [
    "### Create tables"
   ]
  },
  {
   "cell_type": "code",
   "execution_count": 44,
   "metadata": {},
   "outputs": [],
   "source": [
    "create_menuitem_table = \"\"\"CREATE TABLE MenuItems (\n",
    "ItemID INT AUTO_INCREMENT,\n",
    "Name VARCHAR(200),\n",
    "Type VARCHAR(100),\n",
    "Price INT,\n",
    "PRIMARY KEY (ItemID)\n",
    ");\"\"\"\n",
    "\n",
    "create_menu_table = \"\"\"CREATE TABLE Menus (\n",
    "MenuID INT,\n",
    "ItemID INT,\n",
    "Cuisine VARCHAR(100),\n",
    "PRIMARY KEY (MenuID,ItemID)\n",
    ");\"\"\"\n",
    "\n",
    "create_booking_table = \"\"\"CREATE TABLE Bookings (\n",
    "BookingID INT AUTO_INCREMENT,\n",
    "TableNo INT,\n",
    "GuestFirstName VARCHAR(100) NOT NULL,\n",
    "GuestLastName VARCHAR(100) NOT NULL,\n",
    "BookingSlot TIME NOT NULL,\n",
    "EmployeeID INT,\n",
    "PRIMARY KEY (BookingID)\n",
    ");\"\"\"\n",
    "\n",
    "create_orders_table = \"\"\"CREATE TABLE Orders (\n",
    "OrderID INT,\n",
    "TableNo INT,\n",
    "MenuID INT,\n",
    "BookingID INT,\n",
    "BillAmount INT,\n",
    "Quantity INT,\n",
    "PRIMARY KEY (OrderID,TableNo)\n",
    ");\"\"\"\n",
    "\n",
    "create_employees_table = \"\"\"CREATE TABLE Employees (\n",
    "EmployeeID INT AUTO_INCREMENT PRIMARY KEY,\n",
    "Name VARCHAR (255),\n",
    "Role VARCHAR (100),\n",
    "Address VARCHAR (255),\n",
    "Contact_Number INT,\n",
    "Email VARCHAR (255),\n",
    "Annual_Salary VARCHAR (100)\n",
    ");\"\"\""
   ]
  },
  {
   "cell_type": "code",
   "execution_count": 45,
   "metadata": {},
   "outputs": [],
   "source": [
    "# Create MenuItems table\n",
    "cursor.execute(create_menuitem_table)\n",
    "\n",
    "# Create Menu table\n",
    "cursor.execute(create_menu_table)\n",
    "\n",
    "# Create Bookings table\n",
    "cursor.execute(create_booking_table)\n",
    "\n",
    "# Create Orders table\n",
    "cursor.execute(create_orders_table)\n",
    "\n",
    "# Create Employees table\n",
    "cursor.execute(create_employees_table)"
   ]
  },
  {
   "cell_type": "markdown",
   "metadata": {},
   "source": [
    "### Insert data"
   ]
  },
  {
   "cell_type": "code",
   "execution_count": 46,
   "metadata": {},
   "outputs": [],
   "source": [
    "#*******************************************************#\n",
    "# Insert query to populate \"MenuItems\" table:\n",
    "#*******************************************************#\n",
    "insert_menuitems=\"\"\"\n",
    "INSERT INTO MenuItems (ItemID, Name, Type, Price)\n",
    "VALUES\n",
    "(1, 'Olives','Starters',5),\n",
    "(2, 'Flatbread','Starters', 5),\n",
    "(3, 'Minestrone', 'Starters', 8),\n",
    "(4, 'Tomato bread','Starters', 8),\n",
    "(5, 'Falafel', 'Starters', 7),\n",
    "(6, 'Hummus', 'Starters', 5),\n",
    "(7, 'Greek salad', 'Main Courses', 15),\n",
    "(8, 'Bean soup', 'Main Courses', 12),\n",
    "(9, 'Pizza', 'Main Courses', 15),\n",
    "(10, 'Greek yoghurt','Desserts', 7),\n",
    "(11, 'Ice cream', 'Desserts', 6),\n",
    "(12, 'Cheesecake', 'Desserts', 4),\n",
    "(13, 'Athens White wine', 'Drinks', 25),\n",
    "(14, 'Corfu Red Wine', 'Drinks', 30),\n",
    "(15, 'Turkish Coffee', 'Drinks', 10),\n",
    "(16, 'Turkish Coffee', 'Drinks', 10),\n",
    "(17, 'Kabasa', 'Main Courses', 17);\"\"\"\n",
    "\n",
    "#*******************************************************#\n",
    "# Insert query to populate \"Menu\" table:\n",
    "#*******************************************************#\n",
    "insert_menu=\"\"\"\n",
    "INSERT INTO Menus (MenuID,ItemID,Cuisine)\n",
    "VALUES\n",
    "(1, 1, 'Greek'),\n",
    "(1, 7, 'Greek'),\n",
    "(1, 10, 'Greek'),\n",
    "(1, 13, 'Greek'),\n",
    "(2, 3, 'Italian'),\n",
    "(2, 9, 'Italian'),\n",
    "(2, 12, 'Italian'),\n",
    "(2, 15, 'Italian'),\n",
    "(3, 5, 'Turkish'),\n",
    "(3, 17, 'Turkish'),\n",
    "(3, 11, 'Turkish'),\n",
    "(3, 16, 'Turkish');\"\"\"\n",
    "\n",
    "#*******************************************************#\n",
    "# Insert query to populate \"Bookings\" table:\n",
    "#*******************************************************#\n",
    "insert_bookings=\"\"\"\n",
    "INSERT INTO Bookings (BookingID, TableNo, GuestFirstName, \n",
    "GuestLastName, BookingSlot, EmployeeID)\n",
    "VALUES\n",
    "(1, 12, 'Anna','Iversen','19:00:00',1),\n",
    "(2, 12, 'Joakim', 'Iversen', '19:00:00', 1),\n",
    "(3, 19, 'Vanessa', 'McCarthy', '15:00:00', 3),\n",
    "(4, 15, 'Marcos', 'Romero', '17:30:00', 4),\n",
    "(5, 5, 'Hiroki', 'Yamane', '18:30:00', 2),\n",
    "(6, 8, 'Diana', 'Pinto', '20:00:00', 5);\"\"\"\n",
    "\n",
    "#*******************************************************#\n",
    "# Insert query to populate \"Orders\" table:\n",
    "#*******************************************************#\n",
    "insert_orders=\"\"\"\n",
    "INSERT INTO Orders (OrderID, TableNo, MenuID, BookingID, Quantity, BillAmount)\n",
    "VALUES\n",
    "(1, 12, 1, 1, 2, 86),\n",
    "(2, 19, 2, 2, 1, 37),\n",
    "(3, 15, 2, 3, 1, 37),\n",
    "(4, 5, 3, 4, 1, 40),\n",
    "(5, 8, 1, 5, 1, 43);\"\"\"\n",
    "\n",
    "#*******************************************************#\n",
    "# Insert query to populate \"Employees\" table:\n",
    "#*******************************************************#\n",
    "insert_employees = \"\"\"\n",
    "INSERT INTO Employees (EmployeeID, Name, Role, Address, Contact_Number, Email, Annual_Salary)\n",
    "VALUES\n",
    "(1,'Mario Gollini','Manager','724, Parsley Lane, Old Town, Chicago, IL',351258074,'Mario.g@littlelemon.com','$70,000'),\n",
    "(2,'Adrian Gollini','Assistant Manager','334, Dill Square, Lincoln Park, Chicago, IL',351474048,'Adrian.g@littlelemon.com','$65,000'),\n",
    "(3,'Giorgos Dioudis','Head Chef','879 Sage Street, West Loop, Chicago, IL',351970582,'Giorgos.d@littlelemon.com','$50,000'),\n",
    "(4,'Fatma Kaya','Assistant Chef','132  Bay Lane, Chicago, IL',351963569,'Fatma.k@littlelemon.com','$45,000'),\n",
    "(5,'Elena Salvai','Head Waiter','989 Thyme Square, EdgeWater, Chicago, IL',351074198,'Elena.s@littlelemon.com','$40,000'),\n",
    "(6,'John Millar','Receptionist','245 Dill Square, Lincoln Park, Chicago, IL',351584508,'John.m@littlelemon.com','$35,000');\n",
    "\"\"\"\n"
   ]
  },
  {
   "cell_type": "code",
   "execution_count": 47,
   "metadata": {},
   "outputs": [],
   "source": [
    "# Populate MenuItems table\n",
    "cursor.execute(insert_menuitems)\n",
    "connection.commit()\n",
    "\n",
    "# Populate MenuItems table\n",
    "cursor.execute(insert_menu)\n",
    "connection.commit()\n",
    "\n",
    "# Populate Bookings table\n",
    "cursor.execute(insert_bookings)\n",
    "connection.commit()\n",
    "\n",
    "# Populate Orders table\n",
    "cursor.execute(insert_orders)\n",
    "connection.commit()\n",
    "\n",
    "# Populate Employees table\n",
    "cursor.execute(insert_employees)\n",
    "connection.commit()"
   ]
  },
  {
   "cell_type": "markdown",
   "metadata": {},
   "source": [
    "## Implementing and query stored procedures"
   ]
  },
  {
   "cell_type": "markdown",
   "metadata": {},
   "source": [
    "Stored procedures are created to carry out routine operations on MySQL databases. They are consistent and make sure that the written SQL queries in the procedures are executed in the same way every time you call the stored procedure.\n",
    "\n",
    "A stored procedure is created only once, and you store it in the MySQL database. You can call the stored procedures as many times as you need in your Python-based application."
   ]
  },
  {
   "cell_type": "markdown",
   "metadata": {},
   "source": [
    "### Establish connection"
   ]
  },
  {
   "cell_type": "code",
   "execution_count": 48,
   "metadata": {},
   "outputs": [
    {
     "name": "stdout",
     "output_type": "stream",
     "text": [
      "The connection pool is created with a name: pool_a\n",
      "The pool size is: 2\n",
      "Getting a connection from the pool.\n",
      "Creating a cursor object.\n"
     ]
    }
   ],
   "source": [
    "from mysql.connector.pooling import MySQLConnectionPool\n",
    "from mysql.connector import Error\n",
    "\n",
    "dbconfig = {\n",
    "    \"database\": \"little_lemon_db\",\n",
    "    \"user\" : \"root\",\n",
    "    \"password\" : \"little-lemon\"\n",
    "}\n",
    "\n",
    "try:\n",
    "    pool_b = MySQLConnectionPool(pool_name = \"pool_a\",\n",
    "                               pool_size = 2,\n",
    "                               **dbconfig)\n",
    "    print(f\"The connection pool is created with a name: {pool_b.pool_name}\")\n",
    "    print(f\"The pool size is: {pool_b.pool_size}\")\n",
    "\n",
    "except Error as er:\n",
    "    print(f\"Error code: {er.errno}\")\n",
    "    print(f\"Error message: {er.msg}\")\n",
    "\n",
    "print(\"Getting a connection from the pool.\")\n",
    "connection2 = pool_b.get_connection()\n",
    "\n",
    "# Create cursor object to communicate with entire MySQL database\n",
    "print(\"Creating a cursor object.\")\n",
    "cursor = connection2.cursor()"
   ]
  },
  {
   "cell_type": "markdown",
   "metadata": {},
   "source": [
    "### Envoke procedures"
   ]
  },
  {
   "cell_type": "code",
   "execution_count": 49,
   "metadata": {},
   "outputs": [
    {
     "name": "stdout",
     "output_type": "stream",
     "text": [
      "['BookingHour', 'NumberOfBookings']\n",
      "(19, 2)\n",
      "(15, 1)\n",
      "(17, 1)\n",
      "(18, 1)\n",
      "(20, 1)\n"
     ]
    }
   ],
   "source": [
    "procedure_peak_hour_query = \"\"\"\n",
    "CREATE PROCEDURE PeakHours()\n",
    "BEGIN\n",
    "\n",
    "SELECT \n",
    "    HOUR(BookingSlot) AS BookingHour,\n",
    "    COUNT(*) AS NumberOfBookings\n",
    "FROM\n",
    "    Bookings\n",
    "GROUP BY\n",
    "    BookingHour\n",
    "ORDER BY\n",
    "    NumberOfBookings DESC;\n",
    "\n",
    "END\n",
    "\"\"\"\n",
    "\n",
    "cursor.execute(procedure_peak_hour_query)\n",
    "cursor.callproc(\"PeakHours\")\n",
    "\n",
    "results = next(cursor.stored_results())\n",
    "dataset = results.fetchall()\n",
    "\n",
    "for column_id in cursor.stored_results():\n",
    "    columns = [ column[0] for column in column_id.description]\n",
    "\n",
    "print(columns)\n",
    "for data in dataset:\n",
    "    print(data)"
   ]
  },
  {
   "cell_type": "code",
   "execution_count": 52,
   "metadata": {},
   "outputs": [
    {
     "name": "stdout",
     "output_type": "stream",
     "text": [
      "['GuestName', 'EmployeeName', 'Role', 'OrderStatus']\n",
      "('Anna Iversen', 'Mario Gollini', 'Manager', 'Ready to pay')\n",
      "('Joakim Iversen', 'Mario Gollini', 'Manager', 'Ready to pay')\n",
      "('Vanessa McCarthy', 'Giorgos Dioudis', 'Head Chef', 'Ready to serve')\n",
      "('Marcos Romero', 'Fatma Kaya', 'Assistant Chef', 'Preparing Order')\n",
      "('Hiroki Yamane', 'Adrian Gollini', 'Assistant Manager', 'Ready to pay')\n",
      "('Diana Pinto', 'Elena Salvai', 'Head Waiter', 'Order served')\n"
     ]
    }
   ],
   "source": [
    "procedure_guest_status = \"\"\"\n",
    "CREATE PROCEDURE GuestStatus()\n",
    "BEGIN\n",
    "\n",
    "    SELECT\n",
    "        CONCAT(Bookings.GuestFirstName, ' ', Bookings.GuestLastName) AS GuestName,\n",
    "        Employees.Name as EmployeeName,\n",
    "        Employees.Role,\n",
    "        CASE\n",
    "            WHEN Employees.Role = 'Manager' OR Employees.Role = 'Assistant Manager' THEN 'Ready to pay'\n",
    "            WHEN Employees.Role = 'Head Chef' THEN 'Ready to serve'\n",
    "            WHEN Employees.Role = 'Assistant Chef' THEN 'Preparing Order'\n",
    "            WHEN Employees.Role = 'Head Waiter' THEN 'Order served'\n",
    "            ELSE 'Status not defined'\n",
    "        END AS OrderStatus\n",
    "    FROM\n",
    "        Bookings\n",
    "    LEFT JOIN\n",
    "        Employees ON Bookings.EmployeeID = Employees.EmployeeID;\n",
    "\n",
    "END\n",
    "\"\"\"\n",
    "\n",
    "cursor.execute(procedure_guest_status)\n",
    "cursor.callproc(\"GuestStatus\")\n",
    "\n",
    "results = next(cursor.stored_results())\n",
    "dataset = results.fetchall()\n",
    "\n",
    "for column_id in cursor.stored_results():\n",
    "    columns = [ column[0] for column in column_id.description]\n",
    "\n",
    "print(columns)\n",
    "for data in dataset:\n",
    "    print(data)"
   ]
  },
  {
   "cell_type": "markdown",
   "metadata": {},
   "source": [
    "### Close the connections"
   ]
  },
  {
   "cell_type": "code",
   "execution_count": 53,
   "metadata": {},
   "outputs": [
    {
     "name": "stdout",
     "output_type": "stream",
     "text": [
      "The cursor is closed.\n",
      "MySQL connection is closed.\n"
     ]
    }
   ],
   "source": [
    "if connection.is_connected():\n",
    "    cursor.close()\n",
    "    print(\"The cursor is closed.\")\n",
    "    connection.close()\n",
    "    print(\"MySQL connection is closed.\")\n",
    "else:\n",
    "    print(\"Connection is already closed\")"
   ]
  },
  {
   "cell_type": "markdown",
   "metadata": {},
   "source": [
    "## Little Lemon analysis and sales report"
   ]
  },
  {
   "cell_type": "markdown",
   "metadata": {},
   "source": [
    "### Task 1"
   ]
  },
  {
   "cell_type": "code",
   "execution_count": 72,
   "metadata": {},
   "outputs": [
    {
     "name": "stdout",
     "output_type": "stream",
     "text": [
      "The connection pool is created with a name: pool_b\n",
      "The pool size is: 2\n",
      "Getting a connection from the pool.\n",
      "Creating a cursor object.\n"
     ]
    }
   ],
   "source": [
    "from mysql.connector.pooling import MySQLConnectionPool\n",
    "from mysql.connector import Error\n",
    "\n",
    "dbconfig = {\n",
    "    \"database\": \"little_lemon_db\",\n",
    "    \"user\" : \"root\",\n",
    "    \"password\" : \"little-lemon\"\n",
    "}\n",
    "\n",
    "try:\n",
    "    pool_b = MySQLConnectionPool(pool_name = \"pool_b\",\n",
    "                               pool_size = 2,\n",
    "                               **dbconfig)\n",
    "    print(f\"The connection pool is created with a name: {pool_b.pool_name}\")\n",
    "    print(f\"The pool size is: {pool_b.pool_size}\")\n",
    "\n",
    "except Error as er:\n",
    "    print(f\"Error code: {er.errno}\")\n",
    "    print(f\"Error message: {er.msg}\")\n",
    "\n",
    "print(\"Getting a connection from the pool.\")\n",
    "connection2 = pool_b.get_connection()\n",
    "\n",
    "# Create cursor object to communicate with entire MySQL database\n",
    "print(\"Creating a cursor object.\")\n",
    "cursor2 = connection2.cursor()"
   ]
  },
  {
   "cell_type": "markdown",
   "metadata": {},
   "source": [
    "### Task 2"
   ]
  },
  {
   "cell_type": "code",
   "execution_count": 73,
   "metadata": {},
   "outputs": [
    {
     "name": "stdout",
     "output_type": "stream",
     "text": [
      "A new booking is added in the \"Bookings\" table.\n",
      "A new booking is added in the \"Bookings\" table.\n",
      "Adding new connection in the pool.\n",
      "A new connection is added in the pool.\n",
      "\n",
      "'connection3' is added in the pool.\n",
      "A new booking is added in the \"Bookings\" table.\n",
      "Connection is returned to the pool\n",
      "Connection is returned to the pool\n",
      "\n",
      "Connection can't be returned to the pool\n",
      "Error message: MySQL Connection not available.\n"
     ]
    }
   ],
   "source": [
    "# Connect the first guest\n",
    "booking1 = \"\"\"\n",
    "INSERT INTO Bookings \n",
    "(TableNo, GuestFirstName, GuestLastName, BookingSlot, EmployeeID)\n",
    "VALUES\n",
    "(8,'Anees','Java','18:00:00',6);\n",
    "\"\"\"\n",
    "\n",
    "cursor2.execute(booking1)\n",
    "connection2.commit()\n",
    "print(\"\"\"A new booking is added in the \"Bookings\" table.\"\"\")\n",
    "\n",
    "# Connect the second guest\n",
    "connection2 = pool_b.get_connection()\n",
    "cursor2 = connection2.cursor()\n",
    "\n",
    "booking2 = \"\"\"\n",
    "INSERT INTO Bookings \n",
    "(TableNo, GuestFirstName, GuestLastName, BookingSlot, EmployeeID)\n",
    "VALUES\n",
    "(5, 'Bald','Vin','19:00:00',6);\n",
    "\"\"\"\n",
    "\n",
    "cursor2.execute(booking2)\n",
    "connection2.commit()\n",
    "print(\"\"\"A new booking is added in the \"Bookings\" table.\"\"\")\n",
    "\n",
    "# Adding a new connection to connect the third user.\n",
    "import mysql.connector as connector\n",
    "try:\n",
    "    connection3 = pool_b.get_connection()\n",
    "    print(\"The guest is connected\")\n",
    "except:\n",
    "    print(\"Adding new connection in the pool.\")\n",
    "        \n",
    "    # Create a connection\n",
    "    connection4 = connector.connect(user=\"root\",password=\"little-lemon\")\n",
    "    # Add the connection into the pool\n",
    "    pool_b.add_connection(cnx=connection4)\n",
    "    print(\"A new connection is added in the pool.\\n\")\n",
    "        \n",
    "    connection3 = pool_b.get_connection()\n",
    "    print(\"'connection3' is added in the pool.\")\n",
    "    \n",
    "# Connect the third guest\n",
    "cursor3 = connection3.cursor()\n",
    "booking3 = \"\"\"\n",
    "INSERT INTO Bookings \n",
    "(TableNo, GuestFirstName, GuestLastName, BookingSlot, EmployeeID)\n",
    "VALUES\n",
    "(12, 'Jay','Kon','19:30:00',6);\n",
    "\"\"\"\n",
    "\n",
    "cursor3.execute(booking3)\n",
    "connection3.commit()\n",
    "print(\"\"\"A new booking is added in the \"Bookings\" table.\"\"\")\n",
    "\n",
    "from mysql.connector import Error\n",
    "for connection in [connection2, connection4, connection3]:\n",
    "    try:\n",
    "        connection.close()\n",
    "        print(\"Connection is returned to the pool\")\n",
    "    except Error as er:\n",
    "        print(\"\\nConnection can't be returned to the pool\")\n",
    "        print(\"Error message:\", er.msg)"
   ]
  },
  {
   "cell_type": "markdown",
   "metadata": {},
   "source": [
    "### Task 3"
   ]
  },
  {
   "cell_type": "code",
   "execution_count": 78,
   "metadata": {},
   "outputs": [
    {
     "name": "stdout",
     "output_type": "stream",
     "text": [
      "The connection pool is created with a name: pool_b\n",
      "The pool size is: 2\n",
      "Getting a connection from the pool.\n",
      "The object \"connection\" is created with a connection link from the pool_a\n",
      "Creating a cursor object to communicate with the database.\n",
      "The cursor object \"cursor\" is created.\n",
      "('Name', 'EmployeeID')\n",
      "('Mario Gollini', 1)\n",
      "('Name', 'EmployeeID')\n",
      "('Mario Gollini', 1)\n",
      "('n_booking_between_18_20_hrs',)\n",
      "(17,)\n",
      "The following guests are waiting to be seated:\n",
      "('ID', 'GuestName', 'Employee')\n",
      "(13, 'Jay Kon', 'Receptionist')\n",
      "(17, 'Jay Kon', 'Receptionist')\n",
      "(21, 'Jay Kon', 'Receptionist')\n",
      "(12, 'Bald Vin', 'Receptionist')\n",
      "(16, 'Bald Vin', 'Receptionist')\n",
      "(20, 'Bald Vin', 'Receptionist')\n",
      "(7, 'Anees Java', 'Receptionist')\n",
      "(8, 'Anees Java', 'Receptionist')\n",
      "(9, 'Anees Java', 'Receptionist')\n",
      "(10, 'Anees Java', 'Receptionist')\n",
      "(11, 'Anees Java', 'Receptionist')\n",
      "(15, 'Anees Java', 'Receptionist')\n",
      "(19, 'Anees Java', 'Receptionist')\n"
     ]
    }
   ],
   "source": [
    "try:\n",
    "    pool_b = MySQLConnectionPool(pool_name = \"pool_b\",\n",
    "                               pool_size = 2,\n",
    "                               **dbconfig)\n",
    "    print(f\"The connection pool is created with a name: {pool_b.pool_name}\")\n",
    "    print(f\"The pool size is: {pool_b.pool_size}\")\n",
    "\n",
    "except Error as er:\n",
    "    print(f\"Error code: {er.errno}\")\n",
    "    print(f\"Error message: {er.msg}\")\n",
    "\n",
    "# Get a connection from pool_a and create a cursor object to communicate with the database. \n",
    "print(\"Getting a connection from the pool.\")\n",
    "connection = pool_b.get_connection()\n",
    "print(\"\"\"The object \"connection\" is created with a connection link from the pool_a\"\"\")\n",
    "print(\"\"\"Creating a cursor object to communicate with the database.\"\"\")\n",
    "cursor=connection.cursor()\n",
    "print(\"\"\"The cursor object \"cursor\" is created.\"\"\")\n",
    "\n",
    "# The name and EmployeeID of the Little Lemon manager.\n",
    "manager_query = \"\"\"\n",
    "SELECT \n",
    "Name, EmployeeID \n",
    "FROM Employees \n",
    "WHERE Role = 'Manager'\n",
    "\"\"\"\n",
    "cursor.execute(manager_query)\n",
    "\n",
    "results=cursor.fetchall()\n",
    "columns=cursor.column_names\n",
    "print(columns)\n",
    "for result in results:\n",
    "    print(result)\n",
    "\n",
    "# The name and role of the employee who receives the highest salary.\n",
    "salary_query = \"\"\"\n",
    "SELECT \n",
    "Name, EmployeeID \n",
    "FROM Employees ORDER BY \n",
    "Annual_Salary DESC LIMIT 1\n",
    "\"\"\"\n",
    "cursor.execute(salary_query)\n",
    "results=cursor.fetchall()\n",
    "columns=cursor.column_names\n",
    "print(columns)\n",
    "for result in results:\n",
    "    print(result)\n",
    "\n",
    "# The number of guests booked between 18:00:00 and 20:00:00.\n",
    "cursor.execute(\"\"\"SELECT \n",
    "COUNT(BookingID) n_booking_between_18_20_hrs\n",
    "FROM Bookings \n",
    "WHERE BookingSlot BETWEEN '18:00:00' AND '20:00:00';\"\"\")\n",
    "results=cursor.fetchall()\n",
    "columns=cursor.column_names\n",
    "print(columns)\n",
    "for result in results:\n",
    "    print(result)\n",
    "\n",
    "# Full name and the BookingId of each guest  waiting to be seated  \n",
    "# with the receptionist in sorted order with respect to their BookingSlot.\n",
    "\n",
    "cursor.execute(\"\"\"\n",
    "SELECT \n",
    "\n",
    "Bookings.BookingID AS ID,  \n",
    "CONCAT(GuestFirstName,' ',GuestLastName) AS GuestName, \n",
    "\n",
    "Role AS Employee\n",
    "\n",
    "FROM Bookings \n",
    "LEFT JOIN \n",
    "Employees \n",
    "ON Employees.EmployeeID=Bookings.EmployeeID\n",
    "WHERE Employees.Role = \"Receptionist\"\n",
    "ORDER BY BookingSlot DESC;\n",
    "\n",
    "\"\"\")\n",
    "print(\"The following guests are waiting to be seated:\")\n",
    "results = cursor.fetchall()\n",
    "columns = cursor.column_names\n",
    "print(columns)\n",
    "for result in results:\n",
    "    print(result)\n",
    "\n",
    "connection.close()"
   ]
  },
  {
   "cell_type": "markdown",
   "metadata": {},
   "source": [
    "### Task 4"
   ]
  },
  {
   "cell_type": "code",
   "execution_count": 75,
   "metadata": {},
   "outputs": [
    {
     "name": "stdout",
     "output_type": "stream",
     "text": [
      "Today's sales report:\n",
      "\t Total_Sale : 243\n",
      "\t Average_Sale : 48.6000\n",
      "\t Min_Bill_Paid : 37\n",
      "\t Max_Bill_Paid : 86\n"
     ]
    }
   ],
   "source": [
    "# Create a stored procedure named BasicSalesReport. \n",
    "cursor.execute(\"DROP PROCEDURE IF EXISTS BasicSalesReport;\")\n",
    "\n",
    "stored_procedure_query=\"\"\"\n",
    "CREATE PROCEDURE BasicSalesReport()\n",
    "\n",
    "BEGIN\n",
    "SELECT \n",
    "SUM(BillAmount) AS Total_Sale,\n",
    "AVG(BillAmount) AS Average_Sale,\n",
    "MIN(BillAmount) AS Min_Bill_Paid,\n",
    "MAX(BillAmount) AS Max_Bill_Paid\n",
    "FROM Orders;\n",
    "END\n",
    "\"\"\"\n",
    "\n",
    "# Execute the query\n",
    "cursor.execute(stored_procedure_query)\n",
    "\n",
    "#********************************************#\n",
    "\n",
    "# Call the stored procedure with its name\n",
    "cursor.callproc(\"BasicSalesReport\")\n",
    "\n",
    "# Retrieve records in \"dataset\"\n",
    "results = next(cursor.stored_results())\n",
    "results = results.fetchall()\n",
    "\n",
    "# Retrieve column names using list comprehension in a for loop \n",
    "for column_id in cursor.stored_results():\n",
    "    cols = [column[0] for column in column_id.description]\n",
    "\n",
    "    \n",
    "print(\"Today's sales report:\")\n",
    "for result in results:\n",
    "    print(\"\\t\", cols[0], \":\", result[0])\n",
    "    print(\"\\t\", cols[1], \":\", result[1])\n",
    "    print(\"\\t\", cols[2], \":\", result[2])\n",
    "    print(\"\\t\", cols[3], \":\", result[3])"
   ]
  },
  {
   "cell_type": "markdown",
   "metadata": {},
   "source": [
    "### Task 5"
   ]
  },
  {
   "cell_type": "code",
   "execution_count": 76,
   "metadata": {},
   "outputs": [
    {
     "name": "stdout",
     "output_type": "stream",
     "text": [
      "\n",
      "BookingSlot 15:00:00\n",
      "\tGuest_name: Vanessa McCarthy\n",
      "\tAssigned to: Giorgos Dioudis [Head Chef]\n",
      "\n",
      "BookingSlot 17:30:00\n",
      "\tGuest_name: Marcos Romero\n",
      "\tAssigned to: Fatma Kaya [Assistant Chef]\n",
      "\n",
      "BookingSlot 18:00:00\n",
      "\tGuest_name: Anees Java\n",
      "\tAssigned to: John Millar [Receptionist]\n"
     ]
    }
   ],
   "source": [
    "connection = pool_b.get_connection()\n",
    "cursor = connection.cursor(buffered=True)\n",
    "\n",
    "sql_query = \"\"\"SELECT \n",
    "Bookings.BookingSlot,\n",
    "CONCAT(Bookings.GuestFirstName,\" \",Bookings.GuestLastName) AS Guest_Name,\n",
    "Employees.Name AS Emp_Name,\n",
    "Employees.Role AS Emp_Role\n",
    "FROM Bookings \n",
    "INNER JOIN \n",
    "Employees ON Bookings.EmployeeID=Employees.EmployeeID\n",
    "ORDER BY Bookings.BookingSlot ASC;\"\"\"\n",
    "cursor.execute(sql_query)\n",
    "results=cursor.fetchmany(size=3)\n",
    "#print(cursor.column_names)\n",
    "for result in results:\n",
    "    print(\"\\nBookingSlot\",result[0])\n",
    "    print(\"\\tGuest_name:\",result[1])\n",
    "    print(\"\\tAssigned to:\",result[2],\"[{}]\".format(result[3]))\n",
    "    \n",
    "connection.close()"
   ]
  },
  {
   "cell_type": "markdown",
   "metadata": {},
   "source": [
    "# The end\n",
    "Thank you!"
   ]
  }
 ],
 "metadata": {
  "kernelspec": {
   "display_name": "meta-database",
   "language": "python",
   "name": "python3"
  },
  "language_info": {
   "codemirror_mode": {
    "name": "ipython",
    "version": 3
   },
   "file_extension": ".py",
   "mimetype": "text/x-python",
   "name": "python",
   "nbconvert_exporter": "python",
   "pygments_lexer": "ipython3",
   "version": "3.12.4"
  }
 },
 "nbformat": 4,
 "nbformat_minor": 2
}
